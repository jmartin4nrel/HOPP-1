{
 "cells": [
  {
   "cell_type": "code",
   "execution_count": 1,
   "id": "7e1e83b8",
   "metadata": {},
   "outputs": [],
   "source": [
    "import os\n",
    "import numpy as np\n",
    "import pandas as pd\n",
    "import arcgis\n",
    "from arcgis.gis import GIS\n",
    "from arcgis.geometry import Point, MultiPoint\n",
    "from arcgis.features import GeoAccessor, GeoSeriesAccessor\n",
    "\n",
    "from examples.efuel.import_sites import import_sites\n",
    "from hopp.utilities.keys import set_arcgis_key_dot_env\n",
    "\n",
    "# Set API key using .env file\n",
    "set_arcgis_key_dot_env()\n",
    "ARCGIS_API_KEY = os.getenv(\"ARCGIS_API_KEY\")\n",
    "\n",
    "site_file = 'ngcc_sites_full.csv'\n",
    "lats, lons = import_sites(site_file)\n",
    "\n",
    "lat_list = []\n",
    "lon_list = []\n",
    "x, y = np.shape(lats)\n",
    "for i in range(x):\n",
    "    for j in range(y):\n",
    "        lat_list.append(lats[i,j])\n",
    "        lon_list.append(lons[i,j])\n",
    "        \n",
    "coord_df = pd.DataFrame({'lat':lat_list, 'lon':lon_list})\n",
    "coord_sdf = pd.DataFrame.spatial.from_xy(coord_df,'lon','lat')\n"
   ]
  },
  {
   "cell_type": "code",
   "execution_count": 3,
   "id": "667ee7a8",
   "metadata": {},
   "outputs": [
    {
     "data": {
      "text/html": [
       "<style>.container { width:100% !important; }</style>"
      ],
      "text/plain": [
       "<IPython.core.display.HTML object>"
      ]
     },
     "metadata": {},
     "output_type": "display_data"
    },
    {
     "data": {
      "application/vnd.jupyter.widget-view+json": {
       "model_id": "b30b91eb716e498bae64f674f6891f73",
       "version_major": 2,
       "version_minor": 0
      },
      "text/plain": [
       "MapView(layout=Layout(flex='1 1', height='800px'))"
      ]
     },
     "metadata": {},
     "output_type": "display_data"
    },
    {
     "data": {
      "text/html": [
       "<div class=\"map-static-img-preview-86a7202a-d485-4012-b393-0a55518a3147\"><img src=\"\"></img></div>"
      ],
      "text/plain": [
       "<IPython.core.display.HTML object>"
      ]
     },
     "metadata": {},
     "output_type": "display_data"
    },
    {
     "data": {
      "text/html": [
       "<div class=\"map-html-embed-preview-86a7202a-d485-4012-b393-0a55518a3147\"></div>"
      ],
      "text/plain": [
       "<IPython.core.display.HTML object>"
      ]
     },
     "metadata": {},
     "output_type": "display_data"
    }
   ],
   "source": [
    "from IPython.display import display, HTML\n",
    "display(HTML(\"<style>.container { width:100% !important; }</style>\"))\n",
    "\n",
    "from ipywidgets import *\n",
    "gis = GIS(api_key=ARCGIS_API_KEY)\n",
    "center_point = Point({'x':-95,'y':35,\"spatialReference\" : {\"wkid\" : 4326}})\n",
    "map = gis.map(\"USA\", zoomlevel=5)\n",
    "map.center = [39,-97]\n",
    "coord_sdf.spatial.plot(map_widget=map,\n",
    "                       renderer_type='s',\n",
    "                        symbol_type='simple',\n",
    "                        symbol_style='o',\n",
    "                        colors='Reds_r',\n",
    "                        cstep=50,\n",
    "                        marker_size=5)\n",
    "map.layout=Layout(flex='1 1', height='800px')\n",
    "map"
   ]
  },
  {
   "cell_type": "code",
   "execution_count": null,
   "id": "ef4e048d",
   "metadata": {},
   "outputs": [],
   "source": []
  },
  {
   "cell_type": "code",
   "execution_count": null,
   "id": "6c9c4545",
   "metadata": {},
   "outputs": [],
   "source": []
  }
 ],
 "metadata": {
  "kernelspec": {
   "display_name": "Python 3 (ipykernel)",
   "language": "python",
   "name": "python3"
  },
  "language_info": {
   "codemirror_mode": {
    "name": "ipython",
    "version": 3
   },
   "file_extension": ".py",
   "mimetype": "text/x-python",
   "name": "python",
   "nbconvert_exporter": "python",
   "pygments_lexer": "ipython3",
   "version": "3.8.18"
  }
 },
 "nbformat": 4,
 "nbformat_minor": 5
}
